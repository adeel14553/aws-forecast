{
 "cells": [
  {
   "cell_type": "code",
   "execution_count": 18,
   "id": "8f384830",
   "metadata": {},
   "outputs": [],
   "source": [
    "import boto3\n",
    "import pandas as pd\n",
    "import numpy as np"
   ]
  },
  {
   "cell_type": "code",
   "execution_count": 51,
   "id": "8b94f741",
   "metadata": {},
   "outputs": [
    {
     "name": "stderr",
     "output_type": "stream",
     "text": [
      "C:\\Users\\Foxy\\anaconda3\\lib\\site-packages\\IPython\\core\\interactiveshell.py:3165: DtypeWarning: Columns (2) have mixed types.Specify dtype option on import or set low_memory=False.\n",
      "  has_raised = await self.run_ast_nodes(code_ast.body, cell_name,\n"
     ]
    },
    {
     "data": {
      "text/html": [
       "<div>\n",
       "<style scoped>\n",
       "    .dataframe tbody tr th:only-of-type {\n",
       "        vertical-align: middle;\n",
       "    }\n",
       "\n",
       "    .dataframe tbody tr th {\n",
       "        vertical-align: top;\n",
       "    }\n",
       "\n",
       "    .dataframe thead th {\n",
       "        text-align: right;\n",
       "    }\n",
       "</style>\n",
       "<table border=\"1\" class=\"dataframe\">\n",
       "  <thead>\n",
       "    <tr style=\"text-align: right;\">\n",
       "      <th></th>\n",
       "      <th>LCLid</th>\n",
       "      <th>tstp</th>\n",
       "      <th>energy(kWh/hh)</th>\n",
       "    </tr>\n",
       "  </thead>\n",
       "  <tbody>\n",
       "    <tr>\n",
       "      <th>0</th>\n",
       "      <td>MAC000291</td>\n",
       "      <td>2012-03-02 09:30:00.0000000</td>\n",
       "      <td>1.158</td>\n",
       "    </tr>\n",
       "    <tr>\n",
       "      <th>1</th>\n",
       "      <td>MAC000291</td>\n",
       "      <td>2012-03-02 10:00:00.0000000</td>\n",
       "      <td>1.499</td>\n",
       "    </tr>\n",
       "    <tr>\n",
       "      <th>2</th>\n",
       "      <td>MAC000291</td>\n",
       "      <td>2012-03-02 10:30:00.0000000</td>\n",
       "      <td>1.433</td>\n",
       "    </tr>\n",
       "    <tr>\n",
       "      <th>3</th>\n",
       "      <td>MAC000291</td>\n",
       "      <td>2012-03-02 11:00:00.0000000</td>\n",
       "      <td>0.51</td>\n",
       "    </tr>\n",
       "    <tr>\n",
       "      <th>4</th>\n",
       "      <td>MAC000291</td>\n",
       "      <td>2012-03-02 11:30:00.0000000</td>\n",
       "      <td>0.455</td>\n",
       "    </tr>\n",
       "  </tbody>\n",
       "</table>\n",
       "</div>"
      ],
      "text/plain": [
       "       LCLid                         tstp energy(kWh/hh)\n",
       "0  MAC000291  2012-03-02 09:30:00.0000000         1.158 \n",
       "1  MAC000291  2012-03-02 10:00:00.0000000         1.499 \n",
       "2  MAC000291  2012-03-02 10:30:00.0000000         1.433 \n",
       "3  MAC000291  2012-03-02 11:00:00.0000000          0.51 \n",
       "4  MAC000291  2012-03-02 11:30:00.0000000         0.455 "
      ]
     },
     "execution_count": 51,
     "metadata": {},
     "output_type": "execute_result"
    }
   ],
   "source": [
    "data = pd.read_csv('./block_12 - Copy (2).csv')\n",
    "data[:5] # Show the first five lines"
   ]
  },
  {
   "cell_type": "code",
   "execution_count": 52,
   "id": "e200c83e",
   "metadata": {},
   "outputs": [
    {
     "name": "stdout",
     "output_type": "stream",
     "text": [
      "(1591187, 3)\n",
      "             LCLid                         tstp energy(kWh/hh)\n",
      "4999     MAC000291  2012-06-14 13:00:00.0000000         0.149 \n",
      "5000     MAC000291  2012-06-14 13:30:00.0000000         0.149 \n",
      "5001     MAC000291  2012-06-14 14:00:00.0000000         0.149 \n",
      "5002     MAC000291  2012-06-14 14:30:00.0000000         0.148 \n",
      "5003     MAC000291  2012-06-14 15:00:00.0000000         0.147 \n",
      "...            ...                          ...            ...\n",
      "1591182  MAC005399  2014-02-27 22:00:00.0000000          0.121\n",
      "1591183  MAC005399  2014-02-27 22:30:00.0000000          0.033\n",
      "1591184  MAC005399  2014-02-27 23:00:00.0000000          0.066\n",
      "1591185  MAC005399  2014-02-27 23:30:00.0000000          0.082\n",
      "1591186  MAC005399  2014-02-28 00:00:00.0000000           0.14\n",
      "\n",
      "[1586188 rows x 3 columns]\n"
     ]
    }
   ],
   "source": [
    "print(data.shape)\n",
    "print(data.iloc[4999:,:])"
   ]
  },
  {
   "cell_type": "code",
   "execution_count": 31,
   "id": "ec79e4ec",
   "metadata": {},
   "outputs": [
    {
     "data": {
      "text/html": [
       "<div>\n",
       "<style scoped>\n",
       "    .dataframe tbody tr th:only-of-type {\n",
       "        vertical-align: middle;\n",
       "    }\n",
       "\n",
       "    .dataframe tbody tr th {\n",
       "        vertical-align: top;\n",
       "    }\n",
       "\n",
       "    .dataframe thead th {\n",
       "        text-align: right;\n",
       "    }\n",
       "</style>\n",
       "<table border=\"1\" class=\"dataframe\">\n",
       "  <thead>\n",
       "    <tr style=\"text-align: right;\">\n",
       "      <th></th>\n",
       "      <th>LCLid</th>\n",
       "      <th>DateTime</th>\n",
       "      <th>KWh</th>\n",
       "    </tr>\n",
       "  </thead>\n",
       "  <tbody>\n",
       "    <tr>\n",
       "      <th>0</th>\n",
       "      <td>MAC000291</td>\n",
       "      <td>2012-03-02 09:30:00.0000000</td>\n",
       "      <td>1.158</td>\n",
       "    </tr>\n",
       "    <tr>\n",
       "      <th>1</th>\n",
       "      <td>MAC000291</td>\n",
       "      <td>2012-03-02 10:00:00.0000000</td>\n",
       "      <td>1.499</td>\n",
       "    </tr>\n",
       "    <tr>\n",
       "      <th>2</th>\n",
       "      <td>MAC000291</td>\n",
       "      <td>2012-03-02 10:30:00.0000000</td>\n",
       "      <td>1.433</td>\n",
       "    </tr>\n",
       "    <tr>\n",
       "      <th>3</th>\n",
       "      <td>MAC000291</td>\n",
       "      <td>2012-03-02 11:00:00.0000000</td>\n",
       "      <td>0.51</td>\n",
       "    </tr>\n",
       "    <tr>\n",
       "      <th>4</th>\n",
       "      <td>MAC000291</td>\n",
       "      <td>2012-03-02 11:30:00.0000000</td>\n",
       "      <td>0.455</td>\n",
       "    </tr>\n",
       "  </tbody>\n",
       "</table>\n",
       "</div>"
      ],
      "text/plain": [
       "       LCLid                     DateTime      KWh\n",
       "0  MAC000291  2012-03-02 09:30:00.0000000   1.158 \n",
       "1  MAC000291  2012-03-02 10:00:00.0000000   1.499 \n",
       "2  MAC000291  2012-03-02 10:30:00.0000000   1.433 \n",
       "3  MAC000291  2012-03-02 11:00:00.0000000    0.51 \n",
       "4  MAC000291  2012-03-02 11:30:00.0000000   0.455 "
      ]
     },
     "execution_count": 31,
     "metadata": {},
     "output_type": "execute_result"
    }
   ],
   "source": [
    "# Renaming the columns\n",
    "data.columns = ['LCLid', 'DateTime', 'KWh']\n",
    "data[:5]"
   ]
  },
  {
   "cell_type": "code",
   "execution_count": 36,
   "id": "883cb926",
   "metadata": {},
   "outputs": [
    {
     "data": {
      "text/html": [
       "<div>\n",
       "<style scoped>\n",
       "    .dataframe tbody tr th:only-of-type {\n",
       "        vertical-align: middle;\n",
       "    }\n",
       "\n",
       "    .dataframe tbody tr th {\n",
       "        vertical-align: top;\n",
       "    }\n",
       "\n",
       "    .dataframe thead th {\n",
       "        text-align: right;\n",
       "    }\n",
       "</style>\n",
       "<table border=\"1\" class=\"dataframe\">\n",
       "  <thead>\n",
       "    <tr style=\"text-align: right;\">\n",
       "      <th></th>\n",
       "      <th>LCLid</th>\n",
       "      <th>DateTime</th>\n",
       "      <th>KWh</th>\n",
       "    </tr>\n",
       "  </thead>\n",
       "  <tbody>\n",
       "    <tr>\n",
       "      <th>0</th>\n",
       "      <td>MAC000291</td>\n",
       "      <td>2012-03-02 09:30:00</td>\n",
       "      <td>1.158</td>\n",
       "    </tr>\n",
       "    <tr>\n",
       "      <th>1</th>\n",
       "      <td>MAC000291</td>\n",
       "      <td>2012-03-02 10:00:00</td>\n",
       "      <td>1.499</td>\n",
       "    </tr>\n",
       "    <tr>\n",
       "      <th>2</th>\n",
       "      <td>MAC000291</td>\n",
       "      <td>2012-03-02 10:30:00</td>\n",
       "      <td>1.433</td>\n",
       "    </tr>\n",
       "    <tr>\n",
       "      <th>3</th>\n",
       "      <td>MAC000291</td>\n",
       "      <td>2012-03-02 11:00:00</td>\n",
       "      <td>0.51</td>\n",
       "    </tr>\n",
       "    <tr>\n",
       "      <th>4</th>\n",
       "      <td>MAC000291</td>\n",
       "      <td>2012-03-02 11:30:00</td>\n",
       "      <td>0.455</td>\n",
       "    </tr>\n",
       "  </tbody>\n",
       "</table>\n",
       "</div>"
      ],
      "text/plain": [
       "       LCLid            DateTime      KWh\n",
       "0  MAC000291 2012-03-02 09:30:00   1.158 \n",
       "1  MAC000291 2012-03-02 10:00:00   1.499 \n",
       "2  MAC000291 2012-03-02 10:30:00   1.433 \n",
       "3  MAC000291 2012-03-02 11:00:00    0.51 \n",
       "4  MAC000291 2012-03-02 11:30:00   0.455 "
      ]
     },
     "execution_count": 36,
     "metadata": {},
     "output_type": "execute_result"
    }
   ],
   "source": [
    "# Creating date, time related columns, dropping milli second\n",
    "data['DateTime'] = pd.to_datetime(data['DateTime'])\n",
    "# data['year'] = data['DateTime'].dt.year\n",
    "# data['month'] = data['DateTime'].dt.month\n",
    "# data['day'] = data['DateTime'].dt.day\n",
    "# data['hour'] = data['DateTime'].dt.hour\n",
    "# data['date'] = data['DateTime'].dt.date\n",
    "data[:5]"
   ]
  },
  {
   "cell_type": "code",
   "execution_count": 41,
   "id": "32424e07",
   "metadata": {},
   "outputs": [
    {
     "name": "stdout",
     "output_type": "stream",
     "text": [
      "          LCLid            DateTime      KWh\n",
      "0     MAC000291 2012-03-02 09:30:00   1.158 \n",
      "1     MAC000291 2012-03-02 10:00:00   1.499 \n",
      "2     MAC000291 2012-03-02 10:30:00   1.433 \n",
      "3     MAC000291 2012-03-02 11:00:00    0.51 \n",
      "4     MAC000291 2012-03-02 11:30:00   0.455 \n",
      "...         ...                 ...      ...\n",
      "4995  MAC000291 2012-06-14 11:00:00   0.147 \n",
      "4996  MAC000291 2012-06-14 11:30:00   0.148 \n",
      "4997  MAC000291 2012-06-14 12:00:00   0.149 \n",
      "4998  MAC000291 2012-06-14 12:30:00    0.15 \n",
      "4999  MAC000291 2012-06-14 13:00:00   0.149 \n",
      "\n",
      "[5000 rows x 3 columns]\n",
      "(5000, 3)\n"
     ]
    }
   ],
   "source": [
    "# Deleting rows with iloc\n",
    "data = data.iloc[0:5000,:]\n",
    "print(data.iloc[:,:])"
   ]
  },
  {
   "cell_type": "code",
   "execution_count": 45,
   "id": "5a1c1589",
   "metadata": {},
   "outputs": [],
   "source": [
    "data = data.to_csv('./block_12 - adeel.csv')"
   ]
  }
 ],
 "metadata": {
  "kernelspec": {
   "display_name": "Python 3",
   "language": "python",
   "name": "python3"
  },
  "language_info": {
   "codemirror_mode": {
    "name": "ipython",
    "version": 3
   },
   "file_extension": ".py",
   "mimetype": "text/x-python",
   "name": "python",
   "nbconvert_exporter": "python",
   "pygments_lexer": "ipython3",
   "version": "3.8.5"
  }
 },
 "nbformat": 4,
 "nbformat_minor": 5
}
